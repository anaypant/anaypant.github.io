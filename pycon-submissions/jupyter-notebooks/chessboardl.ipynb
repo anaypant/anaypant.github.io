{
 "cells": [
  {
   "cell_type": "code",
   "execution_count": 1,
   "metadata": {},
   "outputs": [],
   "source": [
    "!pip install -q ipythonblocks"
   ]
  },
  {
   "cell_type": "code",
   "execution_count": 2,
   "metadata": {},
   "outputs": [],
   "source": [
    "from ipythonblocks import BlockGrid"
   ]
  },
  {
   "cell_type": "code",
   "execution_count": 3,
   "metadata": {},
   "outputs": [],
   "source": [
    "grid = BlockGrid (8,8, fill = (0, 100, 0))"
   ]
  },
  {
   "cell_type": "code",
   "execution_count": 4,
   "metadata": {},
   "outputs": [
    {
     "data": {
      "text/html": [
       "<style type=\"text/css\">table.blockgrid {border: none;} .blockgrid tr {border: none;} .blockgrid td {padding: 0px;} #blocksf30f50c9-ed42-487c-add8-69a162b16342 td {border: 1px solid white;}</style><table id=\"blocksf30f50c9-ed42-487c-add8-69a162b16342\" class=\"blockgrid\"><tbody><tr><td title=\"Index: [0, 0]&#10;Color: (0, 100, 0)\" style=\"width: 20px; height: 20px;background-color: rgb(0, 100, 0);\"></td><td title=\"Index: [0, 1]&#10;Color: (0, 100, 0)\" style=\"width: 20px; height: 20px;background-color: rgb(0, 100, 0);\"></td><td title=\"Index: [0, 2]&#10;Color: (0, 100, 0)\" style=\"width: 20px; height: 20px;background-color: rgb(0, 100, 0);\"></td><td title=\"Index: [0, 3]&#10;Color: (0, 100, 0)\" style=\"width: 20px; height: 20px;background-color: rgb(0, 100, 0);\"></td><td title=\"Index: [0, 4]&#10;Color: (0, 100, 0)\" style=\"width: 20px; height: 20px;background-color: rgb(0, 100, 0);\"></td><td title=\"Index: [0, 5]&#10;Color: (0, 100, 0)\" style=\"width: 20px; height: 20px;background-color: rgb(0, 100, 0);\"></td><td title=\"Index: [0, 6]&#10;Color: (0, 100, 0)\" style=\"width: 20px; height: 20px;background-color: rgb(0, 100, 0);\"></td><td title=\"Index: [0, 7]&#10;Color: (0, 100, 0)\" style=\"width: 20px; height: 20px;background-color: rgb(0, 100, 0);\"></td></tr><tr><td title=\"Index: [1, 0]&#10;Color: (0, 100, 0)\" style=\"width: 20px; height: 20px;background-color: rgb(0, 100, 0);\"></td><td title=\"Index: [1, 1]&#10;Color: (0, 100, 0)\" style=\"width: 20px; height: 20px;background-color: rgb(0, 100, 0);\"></td><td title=\"Index: [1, 2]&#10;Color: (0, 100, 0)\" style=\"width: 20px; height: 20px;background-color: rgb(0, 100, 0);\"></td><td title=\"Index: [1, 3]&#10;Color: (0, 100, 0)\" style=\"width: 20px; height: 20px;background-color: rgb(0, 100, 0);\"></td><td title=\"Index: [1, 4]&#10;Color: (0, 100, 0)\" style=\"width: 20px; height: 20px;background-color: rgb(0, 100, 0);\"></td><td title=\"Index: [1, 5]&#10;Color: (0, 100, 0)\" style=\"width: 20px; height: 20px;background-color: rgb(0, 100, 0);\"></td><td title=\"Index: [1, 6]&#10;Color: (0, 100, 0)\" style=\"width: 20px; height: 20px;background-color: rgb(0, 100, 0);\"></td><td title=\"Index: [1, 7]&#10;Color: (0, 100, 0)\" style=\"width: 20px; height: 20px;background-color: rgb(0, 100, 0);\"></td></tr><tr><td title=\"Index: [2, 0]&#10;Color: (0, 100, 0)\" style=\"width: 20px; height: 20px;background-color: rgb(0, 100, 0);\"></td><td title=\"Index: [2, 1]&#10;Color: (0, 100, 0)\" style=\"width: 20px; height: 20px;background-color: rgb(0, 100, 0);\"></td><td title=\"Index: [2, 2]&#10;Color: (0, 100, 0)\" style=\"width: 20px; height: 20px;background-color: rgb(0, 100, 0);\"></td><td title=\"Index: [2, 3]&#10;Color: (0, 100, 0)\" style=\"width: 20px; height: 20px;background-color: rgb(0, 100, 0);\"></td><td title=\"Index: [2, 4]&#10;Color: (0, 100, 0)\" style=\"width: 20px; height: 20px;background-color: rgb(0, 100, 0);\"></td><td title=\"Index: [2, 5]&#10;Color: (0, 100, 0)\" style=\"width: 20px; height: 20px;background-color: rgb(0, 100, 0);\"></td><td title=\"Index: [2, 6]&#10;Color: (0, 100, 0)\" style=\"width: 20px; height: 20px;background-color: rgb(0, 100, 0);\"></td><td title=\"Index: [2, 7]&#10;Color: (0, 100, 0)\" style=\"width: 20px; height: 20px;background-color: rgb(0, 100, 0);\"></td></tr><tr><td title=\"Index: [3, 0]&#10;Color: (0, 100, 0)\" style=\"width: 20px; height: 20px;background-color: rgb(0, 100, 0);\"></td><td title=\"Index: [3, 1]&#10;Color: (0, 100, 0)\" style=\"width: 20px; height: 20px;background-color: rgb(0, 100, 0);\"></td><td title=\"Index: [3, 2]&#10;Color: (0, 100, 0)\" style=\"width: 20px; height: 20px;background-color: rgb(0, 100, 0);\"></td><td title=\"Index: [3, 3]&#10;Color: (0, 100, 0)\" style=\"width: 20px; height: 20px;background-color: rgb(0, 100, 0);\"></td><td title=\"Index: [3, 4]&#10;Color: (0, 100, 0)\" style=\"width: 20px; height: 20px;background-color: rgb(0, 100, 0);\"></td><td title=\"Index: [3, 5]&#10;Color: (0, 100, 0)\" style=\"width: 20px; height: 20px;background-color: rgb(0, 100, 0);\"></td><td title=\"Index: [3, 6]&#10;Color: (0, 100, 0)\" style=\"width: 20px; height: 20px;background-color: rgb(0, 100, 0);\"></td><td title=\"Index: [3, 7]&#10;Color: (0, 100, 0)\" style=\"width: 20px; height: 20px;background-color: rgb(0, 100, 0);\"></td></tr><tr><td title=\"Index: [4, 0]&#10;Color: (0, 100, 0)\" style=\"width: 20px; height: 20px;background-color: rgb(0, 100, 0);\"></td><td title=\"Index: [4, 1]&#10;Color: (0, 100, 0)\" style=\"width: 20px; height: 20px;background-color: rgb(0, 100, 0);\"></td><td title=\"Index: [4, 2]&#10;Color: (0, 100, 0)\" style=\"width: 20px; height: 20px;background-color: rgb(0, 100, 0);\"></td><td title=\"Index: [4, 3]&#10;Color: (0, 100, 0)\" style=\"width: 20px; height: 20px;background-color: rgb(0, 100, 0);\"></td><td title=\"Index: [4, 4]&#10;Color: (0, 100, 0)\" style=\"width: 20px; height: 20px;background-color: rgb(0, 100, 0);\"></td><td title=\"Index: [4, 5]&#10;Color: (0, 100, 0)\" style=\"width: 20px; height: 20px;background-color: rgb(0, 100, 0);\"></td><td title=\"Index: [4, 6]&#10;Color: (0, 100, 0)\" style=\"width: 20px; height: 20px;background-color: rgb(0, 100, 0);\"></td><td title=\"Index: [4, 7]&#10;Color: (0, 100, 0)\" style=\"width: 20px; height: 20px;background-color: rgb(0, 100, 0);\"></td></tr><tr><td title=\"Index: [5, 0]&#10;Color: (0, 100, 0)\" style=\"width: 20px; height: 20px;background-color: rgb(0, 100, 0);\"></td><td title=\"Index: [5, 1]&#10;Color: (0, 100, 0)\" style=\"width: 20px; height: 20px;background-color: rgb(0, 100, 0);\"></td><td title=\"Index: [5, 2]&#10;Color: (0, 100, 0)\" style=\"width: 20px; height: 20px;background-color: rgb(0, 100, 0);\"></td><td title=\"Index: [5, 3]&#10;Color: (0, 100, 0)\" style=\"width: 20px; height: 20px;background-color: rgb(0, 100, 0);\"></td><td title=\"Index: [5, 4]&#10;Color: (0, 100, 0)\" style=\"width: 20px; height: 20px;background-color: rgb(0, 100, 0);\"></td><td title=\"Index: [5, 5]&#10;Color: (0, 100, 0)\" style=\"width: 20px; height: 20px;background-color: rgb(0, 100, 0);\"></td><td title=\"Index: [5, 6]&#10;Color: (0, 100, 0)\" style=\"width: 20px; height: 20px;background-color: rgb(0, 100, 0);\"></td><td title=\"Index: [5, 7]&#10;Color: (0, 100, 0)\" style=\"width: 20px; height: 20px;background-color: rgb(0, 100, 0);\"></td></tr><tr><td title=\"Index: [6, 0]&#10;Color: (0, 100, 0)\" style=\"width: 20px; height: 20px;background-color: rgb(0, 100, 0);\"></td><td title=\"Index: [6, 1]&#10;Color: (0, 100, 0)\" style=\"width: 20px; height: 20px;background-color: rgb(0, 100, 0);\"></td><td title=\"Index: [6, 2]&#10;Color: (0, 100, 0)\" style=\"width: 20px; height: 20px;background-color: rgb(0, 100, 0);\"></td><td title=\"Index: [6, 3]&#10;Color: (0, 100, 0)\" style=\"width: 20px; height: 20px;background-color: rgb(0, 100, 0);\"></td><td title=\"Index: [6, 4]&#10;Color: (0, 100, 0)\" style=\"width: 20px; height: 20px;background-color: rgb(0, 100, 0);\"></td><td title=\"Index: [6, 5]&#10;Color: (0, 100, 0)\" style=\"width: 20px; height: 20px;background-color: rgb(0, 100, 0);\"></td><td title=\"Index: [6, 6]&#10;Color: (0, 100, 0)\" style=\"width: 20px; height: 20px;background-color: rgb(0, 100, 0);\"></td><td title=\"Index: [6, 7]&#10;Color: (0, 100, 0)\" style=\"width: 20px; height: 20px;background-color: rgb(0, 100, 0);\"></td></tr><tr><td title=\"Index: [7, 0]&#10;Color: (0, 100, 0)\" style=\"width: 20px; height: 20px;background-color: rgb(0, 100, 0);\"></td><td title=\"Index: [7, 1]&#10;Color: (0, 100, 0)\" style=\"width: 20px; height: 20px;background-color: rgb(0, 100, 0);\"></td><td title=\"Index: [7, 2]&#10;Color: (0, 100, 0)\" style=\"width: 20px; height: 20px;background-color: rgb(0, 100, 0);\"></td><td title=\"Index: [7, 3]&#10;Color: (0, 100, 0)\" style=\"width: 20px; height: 20px;background-color: rgb(0, 100, 0);\"></td><td title=\"Index: [7, 4]&#10;Color: (0, 100, 0)\" style=\"width: 20px; height: 20px;background-color: rgb(0, 100, 0);\"></td><td title=\"Index: [7, 5]&#10;Color: (0, 100, 0)\" style=\"width: 20px; height: 20px;background-color: rgb(0, 100, 0);\"></td><td title=\"Index: [7, 6]&#10;Color: (0, 100, 0)\" style=\"width: 20px; height: 20px;background-color: rgb(0, 100, 0);\"></td><td title=\"Index: [7, 7]&#10;Color: (0, 100, 0)\" style=\"width: 20px; height: 20px;background-color: rgb(0, 100, 0);\"></td></tr></tbody></table>"
      ],
      "text/plain": [
       "<ipythonblocks.ipythonblocks.BlockGrid at 0x7f5f20dc8828>"
      ]
     },
     "execution_count": 4,
     "metadata": {},
     "output_type": "execute_result"
    }
   ],
   "source": [
    "grid"
   ]
  },
  {
   "cell_type": "code",
   "execution_count": 5,
   "metadata": {},
   "outputs": [],
   "source": [
    "for i in range (1,8,2):\n",
    "    for j in range (1,8,2):\n",
    "        grid[i,j].red = 185\n",
    "        grid[i,j].green = 185\n",
    "        grid[i,j].blue = 185\n",
    "    "
   ]
  },
  {
   "cell_type": "code",
   "execution_count": 6,
   "metadata": {},
   "outputs": [
    {
     "data": {
      "text/html": [
       "<style type=\"text/css\">table.blockgrid {border: none;} .blockgrid tr {border: none;} .blockgrid td {padding: 0px;} #blocksb10dce77-e93d-4554-b183-359a87e75b6f td {border: 1px solid white;}</style><table id=\"blocksb10dce77-e93d-4554-b183-359a87e75b6f\" class=\"blockgrid\"><tbody><tr><td title=\"Index: [0, 0]&#10;Color: (0, 100, 0)\" style=\"width: 20px; height: 20px;background-color: rgb(0, 100, 0);\"></td><td title=\"Index: [0, 1]&#10;Color: (0, 100, 0)\" style=\"width: 20px; height: 20px;background-color: rgb(0, 100, 0);\"></td><td title=\"Index: [0, 2]&#10;Color: (0, 100, 0)\" style=\"width: 20px; height: 20px;background-color: rgb(0, 100, 0);\"></td><td title=\"Index: [0, 3]&#10;Color: (0, 100, 0)\" style=\"width: 20px; height: 20px;background-color: rgb(0, 100, 0);\"></td><td title=\"Index: [0, 4]&#10;Color: (0, 100, 0)\" style=\"width: 20px; height: 20px;background-color: rgb(0, 100, 0);\"></td><td title=\"Index: [0, 5]&#10;Color: (0, 100, 0)\" style=\"width: 20px; height: 20px;background-color: rgb(0, 100, 0);\"></td><td title=\"Index: [0, 6]&#10;Color: (0, 100, 0)\" style=\"width: 20px; height: 20px;background-color: rgb(0, 100, 0);\"></td><td title=\"Index: [0, 7]&#10;Color: (0, 100, 0)\" style=\"width: 20px; height: 20px;background-color: rgb(0, 100, 0);\"></td></tr><tr><td title=\"Index: [1, 0]&#10;Color: (0, 100, 0)\" style=\"width: 20px; height: 20px;background-color: rgb(0, 100, 0);\"></td><td title=\"Index: [1, 1]&#10;Color: (185, 185, 185)\" style=\"width: 20px; height: 20px;background-color: rgb(185, 185, 185);\"></td><td title=\"Index: [1, 2]&#10;Color: (0, 100, 0)\" style=\"width: 20px; height: 20px;background-color: rgb(0, 100, 0);\"></td><td title=\"Index: [1, 3]&#10;Color: (185, 185, 185)\" style=\"width: 20px; height: 20px;background-color: rgb(185, 185, 185);\"></td><td title=\"Index: [1, 4]&#10;Color: (0, 100, 0)\" style=\"width: 20px; height: 20px;background-color: rgb(0, 100, 0);\"></td><td title=\"Index: [1, 5]&#10;Color: (185, 185, 185)\" style=\"width: 20px; height: 20px;background-color: rgb(185, 185, 185);\"></td><td title=\"Index: [1, 6]&#10;Color: (0, 100, 0)\" style=\"width: 20px; height: 20px;background-color: rgb(0, 100, 0);\"></td><td title=\"Index: [1, 7]&#10;Color: (185, 185, 185)\" style=\"width: 20px; height: 20px;background-color: rgb(185, 185, 185);\"></td></tr><tr><td title=\"Index: [2, 0]&#10;Color: (0, 100, 0)\" style=\"width: 20px; height: 20px;background-color: rgb(0, 100, 0);\"></td><td title=\"Index: [2, 1]&#10;Color: (0, 100, 0)\" style=\"width: 20px; height: 20px;background-color: rgb(0, 100, 0);\"></td><td title=\"Index: [2, 2]&#10;Color: (0, 100, 0)\" style=\"width: 20px; height: 20px;background-color: rgb(0, 100, 0);\"></td><td title=\"Index: [2, 3]&#10;Color: (0, 100, 0)\" style=\"width: 20px; height: 20px;background-color: rgb(0, 100, 0);\"></td><td title=\"Index: [2, 4]&#10;Color: (0, 100, 0)\" style=\"width: 20px; height: 20px;background-color: rgb(0, 100, 0);\"></td><td title=\"Index: [2, 5]&#10;Color: (0, 100, 0)\" style=\"width: 20px; height: 20px;background-color: rgb(0, 100, 0);\"></td><td title=\"Index: [2, 6]&#10;Color: (0, 100, 0)\" style=\"width: 20px; height: 20px;background-color: rgb(0, 100, 0);\"></td><td title=\"Index: [2, 7]&#10;Color: (0, 100, 0)\" style=\"width: 20px; height: 20px;background-color: rgb(0, 100, 0);\"></td></tr><tr><td title=\"Index: [3, 0]&#10;Color: (0, 100, 0)\" style=\"width: 20px; height: 20px;background-color: rgb(0, 100, 0);\"></td><td title=\"Index: [3, 1]&#10;Color: (185, 185, 185)\" style=\"width: 20px; height: 20px;background-color: rgb(185, 185, 185);\"></td><td title=\"Index: [3, 2]&#10;Color: (0, 100, 0)\" style=\"width: 20px; height: 20px;background-color: rgb(0, 100, 0);\"></td><td title=\"Index: [3, 3]&#10;Color: (185, 185, 185)\" style=\"width: 20px; height: 20px;background-color: rgb(185, 185, 185);\"></td><td title=\"Index: [3, 4]&#10;Color: (0, 100, 0)\" style=\"width: 20px; height: 20px;background-color: rgb(0, 100, 0);\"></td><td title=\"Index: [3, 5]&#10;Color: (185, 185, 185)\" style=\"width: 20px; height: 20px;background-color: rgb(185, 185, 185);\"></td><td title=\"Index: [3, 6]&#10;Color: (0, 100, 0)\" style=\"width: 20px; height: 20px;background-color: rgb(0, 100, 0);\"></td><td title=\"Index: [3, 7]&#10;Color: (185, 185, 185)\" style=\"width: 20px; height: 20px;background-color: rgb(185, 185, 185);\"></td></tr><tr><td title=\"Index: [4, 0]&#10;Color: (0, 100, 0)\" style=\"width: 20px; height: 20px;background-color: rgb(0, 100, 0);\"></td><td title=\"Index: [4, 1]&#10;Color: (0, 100, 0)\" style=\"width: 20px; height: 20px;background-color: rgb(0, 100, 0);\"></td><td title=\"Index: [4, 2]&#10;Color: (0, 100, 0)\" style=\"width: 20px; height: 20px;background-color: rgb(0, 100, 0);\"></td><td title=\"Index: [4, 3]&#10;Color: (0, 100, 0)\" style=\"width: 20px; height: 20px;background-color: rgb(0, 100, 0);\"></td><td title=\"Index: [4, 4]&#10;Color: (0, 100, 0)\" style=\"width: 20px; height: 20px;background-color: rgb(0, 100, 0);\"></td><td title=\"Index: [4, 5]&#10;Color: (0, 100, 0)\" style=\"width: 20px; height: 20px;background-color: rgb(0, 100, 0);\"></td><td title=\"Index: [4, 6]&#10;Color: (0, 100, 0)\" style=\"width: 20px; height: 20px;background-color: rgb(0, 100, 0);\"></td><td title=\"Index: [4, 7]&#10;Color: (0, 100, 0)\" style=\"width: 20px; height: 20px;background-color: rgb(0, 100, 0);\"></td></tr><tr><td title=\"Index: [5, 0]&#10;Color: (0, 100, 0)\" style=\"width: 20px; height: 20px;background-color: rgb(0, 100, 0);\"></td><td title=\"Index: [5, 1]&#10;Color: (185, 185, 185)\" style=\"width: 20px; height: 20px;background-color: rgb(185, 185, 185);\"></td><td title=\"Index: [5, 2]&#10;Color: (0, 100, 0)\" style=\"width: 20px; height: 20px;background-color: rgb(0, 100, 0);\"></td><td title=\"Index: [5, 3]&#10;Color: (185, 185, 185)\" style=\"width: 20px; height: 20px;background-color: rgb(185, 185, 185);\"></td><td title=\"Index: [5, 4]&#10;Color: (0, 100, 0)\" style=\"width: 20px; height: 20px;background-color: rgb(0, 100, 0);\"></td><td title=\"Index: [5, 5]&#10;Color: (185, 185, 185)\" style=\"width: 20px; height: 20px;background-color: rgb(185, 185, 185);\"></td><td title=\"Index: [5, 6]&#10;Color: (0, 100, 0)\" style=\"width: 20px; height: 20px;background-color: rgb(0, 100, 0);\"></td><td title=\"Index: [5, 7]&#10;Color: (185, 185, 185)\" style=\"width: 20px; height: 20px;background-color: rgb(185, 185, 185);\"></td></tr><tr><td title=\"Index: [6, 0]&#10;Color: (0, 100, 0)\" style=\"width: 20px; height: 20px;background-color: rgb(0, 100, 0);\"></td><td title=\"Index: [6, 1]&#10;Color: (0, 100, 0)\" style=\"width: 20px; height: 20px;background-color: rgb(0, 100, 0);\"></td><td title=\"Index: [6, 2]&#10;Color: (0, 100, 0)\" style=\"width: 20px; height: 20px;background-color: rgb(0, 100, 0);\"></td><td title=\"Index: [6, 3]&#10;Color: (0, 100, 0)\" style=\"width: 20px; height: 20px;background-color: rgb(0, 100, 0);\"></td><td title=\"Index: [6, 4]&#10;Color: (0, 100, 0)\" style=\"width: 20px; height: 20px;background-color: rgb(0, 100, 0);\"></td><td title=\"Index: [6, 5]&#10;Color: (0, 100, 0)\" style=\"width: 20px; height: 20px;background-color: rgb(0, 100, 0);\"></td><td title=\"Index: [6, 6]&#10;Color: (0, 100, 0)\" style=\"width: 20px; height: 20px;background-color: rgb(0, 100, 0);\"></td><td title=\"Index: [6, 7]&#10;Color: (0, 100, 0)\" style=\"width: 20px; height: 20px;background-color: rgb(0, 100, 0);\"></td></tr><tr><td title=\"Index: [7, 0]&#10;Color: (0, 100, 0)\" style=\"width: 20px; height: 20px;background-color: rgb(0, 100, 0);\"></td><td title=\"Index: [7, 1]&#10;Color: (185, 185, 185)\" style=\"width: 20px; height: 20px;background-color: rgb(185, 185, 185);\"></td><td title=\"Index: [7, 2]&#10;Color: (0, 100, 0)\" style=\"width: 20px; height: 20px;background-color: rgb(0, 100, 0);\"></td><td title=\"Index: [7, 3]&#10;Color: (185, 185, 185)\" style=\"width: 20px; height: 20px;background-color: rgb(185, 185, 185);\"></td><td title=\"Index: [7, 4]&#10;Color: (0, 100, 0)\" style=\"width: 20px; height: 20px;background-color: rgb(0, 100, 0);\"></td><td title=\"Index: [7, 5]&#10;Color: (185, 185, 185)\" style=\"width: 20px; height: 20px;background-color: rgb(185, 185, 185);\"></td><td title=\"Index: [7, 6]&#10;Color: (0, 100, 0)\" style=\"width: 20px; height: 20px;background-color: rgb(0, 100, 0);\"></td><td title=\"Index: [7, 7]&#10;Color: (185, 185, 185)\" style=\"width: 20px; height: 20px;background-color: rgb(185, 185, 185);\"></td></tr></tbody></table>"
      ],
      "text/plain": [
       "<ipythonblocks.ipythonblocks.BlockGrid at 0x7f5f20dc8828>"
      ]
     },
     "execution_count": 6,
     "metadata": {},
     "output_type": "execute_result"
    }
   ],
   "source": [
    "grid"
   ]
  },
  {
   "cell_type": "code",
   "execution_count": 7,
   "metadata": {},
   "outputs": [],
   "source": [
    "for i in range (0,8,2):\n",
    "    for j in range (0,8,2):\n",
    "        grid[i,j].red = 185\n",
    "        grid[i,j].green = 185\n",
    "        grid[i,j].blue = 185\n",
    "        "
   ]
  },
  {
   "cell_type": "code",
   "execution_count": 8,
   "metadata": {},
   "outputs": [
    {
     "data": {
      "text/html": [
       "<style type=\"text/css\">table.blockgrid {border: none;} .blockgrid tr {border: none;} .blockgrid td {padding: 0px;} #blocks79baeaa7-281a-4476-959d-f42c69197ab3 td {border: 1px solid white;}</style><table id=\"blocks79baeaa7-281a-4476-959d-f42c69197ab3\" class=\"blockgrid\"><tbody><tr><td title=\"Index: [0, 0]&#10;Color: (185, 185, 185)\" style=\"width: 20px; height: 20px;background-color: rgb(185, 185, 185);\"></td><td title=\"Index: [0, 1]&#10;Color: (0, 100, 0)\" style=\"width: 20px; height: 20px;background-color: rgb(0, 100, 0);\"></td><td title=\"Index: [0, 2]&#10;Color: (185, 185, 185)\" style=\"width: 20px; height: 20px;background-color: rgb(185, 185, 185);\"></td><td title=\"Index: [0, 3]&#10;Color: (0, 100, 0)\" style=\"width: 20px; height: 20px;background-color: rgb(0, 100, 0);\"></td><td title=\"Index: [0, 4]&#10;Color: (185, 185, 185)\" style=\"width: 20px; height: 20px;background-color: rgb(185, 185, 185);\"></td><td title=\"Index: [0, 5]&#10;Color: (0, 100, 0)\" style=\"width: 20px; height: 20px;background-color: rgb(0, 100, 0);\"></td><td title=\"Index: [0, 6]&#10;Color: (185, 185, 185)\" style=\"width: 20px; height: 20px;background-color: rgb(185, 185, 185);\"></td><td title=\"Index: [0, 7]&#10;Color: (0, 100, 0)\" style=\"width: 20px; height: 20px;background-color: rgb(0, 100, 0);\"></td></tr><tr><td title=\"Index: [1, 0]&#10;Color: (0, 100, 0)\" style=\"width: 20px; height: 20px;background-color: rgb(0, 100, 0);\"></td><td title=\"Index: [1, 1]&#10;Color: (185, 185, 185)\" style=\"width: 20px; height: 20px;background-color: rgb(185, 185, 185);\"></td><td title=\"Index: [1, 2]&#10;Color: (0, 100, 0)\" style=\"width: 20px; height: 20px;background-color: rgb(0, 100, 0);\"></td><td title=\"Index: [1, 3]&#10;Color: (185, 185, 185)\" style=\"width: 20px; height: 20px;background-color: rgb(185, 185, 185);\"></td><td title=\"Index: [1, 4]&#10;Color: (0, 100, 0)\" style=\"width: 20px; height: 20px;background-color: rgb(0, 100, 0);\"></td><td title=\"Index: [1, 5]&#10;Color: (185, 185, 185)\" style=\"width: 20px; height: 20px;background-color: rgb(185, 185, 185);\"></td><td title=\"Index: [1, 6]&#10;Color: (0, 100, 0)\" style=\"width: 20px; height: 20px;background-color: rgb(0, 100, 0);\"></td><td title=\"Index: [1, 7]&#10;Color: (185, 185, 185)\" style=\"width: 20px; height: 20px;background-color: rgb(185, 185, 185);\"></td></tr><tr><td title=\"Index: [2, 0]&#10;Color: (185, 185, 185)\" style=\"width: 20px; height: 20px;background-color: rgb(185, 185, 185);\"></td><td title=\"Index: [2, 1]&#10;Color: (0, 100, 0)\" style=\"width: 20px; height: 20px;background-color: rgb(0, 100, 0);\"></td><td title=\"Index: [2, 2]&#10;Color: (185, 185, 185)\" style=\"width: 20px; height: 20px;background-color: rgb(185, 185, 185);\"></td><td title=\"Index: [2, 3]&#10;Color: (0, 100, 0)\" style=\"width: 20px; height: 20px;background-color: rgb(0, 100, 0);\"></td><td title=\"Index: [2, 4]&#10;Color: (185, 185, 185)\" style=\"width: 20px; height: 20px;background-color: rgb(185, 185, 185);\"></td><td title=\"Index: [2, 5]&#10;Color: (0, 100, 0)\" style=\"width: 20px; height: 20px;background-color: rgb(0, 100, 0);\"></td><td title=\"Index: [2, 6]&#10;Color: (185, 185, 185)\" style=\"width: 20px; height: 20px;background-color: rgb(185, 185, 185);\"></td><td title=\"Index: [2, 7]&#10;Color: (0, 100, 0)\" style=\"width: 20px; height: 20px;background-color: rgb(0, 100, 0);\"></td></tr><tr><td title=\"Index: [3, 0]&#10;Color: (0, 100, 0)\" style=\"width: 20px; height: 20px;background-color: rgb(0, 100, 0);\"></td><td title=\"Index: [3, 1]&#10;Color: (185, 185, 185)\" style=\"width: 20px; height: 20px;background-color: rgb(185, 185, 185);\"></td><td title=\"Index: [3, 2]&#10;Color: (0, 100, 0)\" style=\"width: 20px; height: 20px;background-color: rgb(0, 100, 0);\"></td><td title=\"Index: [3, 3]&#10;Color: (185, 185, 185)\" style=\"width: 20px; height: 20px;background-color: rgb(185, 185, 185);\"></td><td title=\"Index: [3, 4]&#10;Color: (0, 100, 0)\" style=\"width: 20px; height: 20px;background-color: rgb(0, 100, 0);\"></td><td title=\"Index: [3, 5]&#10;Color: (185, 185, 185)\" style=\"width: 20px; height: 20px;background-color: rgb(185, 185, 185);\"></td><td title=\"Index: [3, 6]&#10;Color: (0, 100, 0)\" style=\"width: 20px; height: 20px;background-color: rgb(0, 100, 0);\"></td><td title=\"Index: [3, 7]&#10;Color: (185, 185, 185)\" style=\"width: 20px; height: 20px;background-color: rgb(185, 185, 185);\"></td></tr><tr><td title=\"Index: [4, 0]&#10;Color: (185, 185, 185)\" style=\"width: 20px; height: 20px;background-color: rgb(185, 185, 185);\"></td><td title=\"Index: [4, 1]&#10;Color: (0, 100, 0)\" style=\"width: 20px; height: 20px;background-color: rgb(0, 100, 0);\"></td><td title=\"Index: [4, 2]&#10;Color: (185, 185, 185)\" style=\"width: 20px; height: 20px;background-color: rgb(185, 185, 185);\"></td><td title=\"Index: [4, 3]&#10;Color: (0, 100, 0)\" style=\"width: 20px; height: 20px;background-color: rgb(0, 100, 0);\"></td><td title=\"Index: [4, 4]&#10;Color: (185, 185, 185)\" style=\"width: 20px; height: 20px;background-color: rgb(185, 185, 185);\"></td><td title=\"Index: [4, 5]&#10;Color: (0, 100, 0)\" style=\"width: 20px; height: 20px;background-color: rgb(0, 100, 0);\"></td><td title=\"Index: [4, 6]&#10;Color: (185, 185, 185)\" style=\"width: 20px; height: 20px;background-color: rgb(185, 185, 185);\"></td><td title=\"Index: [4, 7]&#10;Color: (0, 100, 0)\" style=\"width: 20px; height: 20px;background-color: rgb(0, 100, 0);\"></td></tr><tr><td title=\"Index: [5, 0]&#10;Color: (0, 100, 0)\" style=\"width: 20px; height: 20px;background-color: rgb(0, 100, 0);\"></td><td title=\"Index: [5, 1]&#10;Color: (185, 185, 185)\" style=\"width: 20px; height: 20px;background-color: rgb(185, 185, 185);\"></td><td title=\"Index: [5, 2]&#10;Color: (0, 100, 0)\" style=\"width: 20px; height: 20px;background-color: rgb(0, 100, 0);\"></td><td title=\"Index: [5, 3]&#10;Color: (185, 185, 185)\" style=\"width: 20px; height: 20px;background-color: rgb(185, 185, 185);\"></td><td title=\"Index: [5, 4]&#10;Color: (0, 100, 0)\" style=\"width: 20px; height: 20px;background-color: rgb(0, 100, 0);\"></td><td title=\"Index: [5, 5]&#10;Color: (185, 185, 185)\" style=\"width: 20px; height: 20px;background-color: rgb(185, 185, 185);\"></td><td title=\"Index: [5, 6]&#10;Color: (0, 100, 0)\" style=\"width: 20px; height: 20px;background-color: rgb(0, 100, 0);\"></td><td title=\"Index: [5, 7]&#10;Color: (185, 185, 185)\" style=\"width: 20px; height: 20px;background-color: rgb(185, 185, 185);\"></td></tr><tr><td title=\"Index: [6, 0]&#10;Color: (185, 185, 185)\" style=\"width: 20px; height: 20px;background-color: rgb(185, 185, 185);\"></td><td title=\"Index: [6, 1]&#10;Color: (0, 100, 0)\" style=\"width: 20px; height: 20px;background-color: rgb(0, 100, 0);\"></td><td title=\"Index: [6, 2]&#10;Color: (185, 185, 185)\" style=\"width: 20px; height: 20px;background-color: rgb(185, 185, 185);\"></td><td title=\"Index: [6, 3]&#10;Color: (0, 100, 0)\" style=\"width: 20px; height: 20px;background-color: rgb(0, 100, 0);\"></td><td title=\"Index: [6, 4]&#10;Color: (185, 185, 185)\" style=\"width: 20px; height: 20px;background-color: rgb(185, 185, 185);\"></td><td title=\"Index: [6, 5]&#10;Color: (0, 100, 0)\" style=\"width: 20px; height: 20px;background-color: rgb(0, 100, 0);\"></td><td title=\"Index: [6, 6]&#10;Color: (185, 185, 185)\" style=\"width: 20px; height: 20px;background-color: rgb(185, 185, 185);\"></td><td title=\"Index: [6, 7]&#10;Color: (0, 100, 0)\" style=\"width: 20px; height: 20px;background-color: rgb(0, 100, 0);\"></td></tr><tr><td title=\"Index: [7, 0]&#10;Color: (0, 100, 0)\" style=\"width: 20px; height: 20px;background-color: rgb(0, 100, 0);\"></td><td title=\"Index: [7, 1]&#10;Color: (185, 185, 185)\" style=\"width: 20px; height: 20px;background-color: rgb(185, 185, 185);\"></td><td title=\"Index: [7, 2]&#10;Color: (0, 100, 0)\" style=\"width: 20px; height: 20px;background-color: rgb(0, 100, 0);\"></td><td title=\"Index: [7, 3]&#10;Color: (185, 185, 185)\" style=\"width: 20px; height: 20px;background-color: rgb(185, 185, 185);\"></td><td title=\"Index: [7, 4]&#10;Color: (0, 100, 0)\" style=\"width: 20px; height: 20px;background-color: rgb(0, 100, 0);\"></td><td title=\"Index: [7, 5]&#10;Color: (185, 185, 185)\" style=\"width: 20px; height: 20px;background-color: rgb(185, 185, 185);\"></td><td title=\"Index: [7, 6]&#10;Color: (0, 100, 0)\" style=\"width: 20px; height: 20px;background-color: rgb(0, 100, 0);\"></td><td title=\"Index: [7, 7]&#10;Color: (185, 185, 185)\" style=\"width: 20px; height: 20px;background-color: rgb(185, 185, 185);\"></td></tr></tbody></table>"
      ],
      "text/plain": [
       "<ipythonblocks.ipythonblocks.BlockGrid at 0x7f5f20dc8828>"
      ]
     },
     "execution_count": 8,
     "metadata": {},
     "output_type": "execute_result"
    }
   ],
   "source": [
    "grid"
   ]
  },
  {
   "cell_type": "code",
   "execution_count": null,
   "metadata": {},
   "outputs": [],
   "source": []
  }
 ],
 "metadata": {
  "kernelspec": {
   "display_name": "Python 3",
   "language": "python",
   "name": "python3"
  },
  "language_info": {
   "codemirror_mode": {
    "name": "ipython",
    "version": 3
   },
   "file_extension": ".py",
   "mimetype": "text/x-python",
   "name": "python",
   "nbconvert_exporter": "python",
   "pygments_lexer": "ipython3",
   "version": "3.6.2"
  }
 },
 "nbformat": 4,
 "nbformat_minor": 2
}
